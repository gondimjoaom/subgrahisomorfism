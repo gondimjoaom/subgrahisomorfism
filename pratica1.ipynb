{
 "cells": [
  {
   "cell_type": "code",
   "execution_count": 98,
   "id": "fcd53186",
   "metadata": {},
   "outputs": [],
   "source": [
    "import os\n",
    "from IPython.display import Image\n",
    "from IPython.core.display import HTML \n",
    "import time\n",
    "import ast"
   ]
  },
  {
   "cell_type": "code",
   "execution_count": 1,
   "id": "b732ab1f",
   "metadata": {},
   "outputs": [],
   "source": [
    "graphname = 'pratica1.graph'"
   ]
  },
  {
   "cell_type": "code",
   "execution_count": 81,
   "id": "62749ea6",
   "metadata": {},
   "outputs": [
    {
     "name": "stdout",
     "output_type": "stream",
     "text": [
      "{'0': '0', 'N1': '1', 'C2': '2', 'C6': '3', 'C7': '4', 'C8': '5', 'C4': '6', 'C5': '7', 'N3': '8', 'C12': '9', 'C9': '10', 'C10': '11', 'O11': '12', 'NA': '13', 'Cc': '14', 'Cb': '15', 'Cd': '16'}\n",
      "{'0': '0', '1': 'N1', '2': 'C2', '3': 'C6', '4': 'C7', '5': 'C8', '6': 'C4', '7': 'C5', '8': 'N3', '9': 'C12', '10': 'C9', '11': 'C10', '12': 'O11', '13': 'NA', '14': 'Cc', '15': 'Cb', '16': 'Cd'}\n"
     ]
    }
   ],
   "source": [
    "graphs = [\n",
    "    ['N1', 'C2'],\n",
    "    ['N1', 'C6'],\n",
    "    ['N1', 'C7'],\n",
    "    ['C7', 'C8'],\n",
    "    ['C8', 'C4'],\n",
    "    ['C6', 'C5'],\n",
    "    ['C5', 'C4'],\n",
    "    ['C4', 'N3'],\n",
    "    ['N3', 'C2'],\n",
    "    ['N3', 'C12'],\n",
    "    ['C2', 'C9'],\n",
    "    ['C9', 'C10'],\n",
    "    ['C9',  'O11'],\n",
    "    ['0', '0'],\n",
    "    ['NA', 'Cc'],\n",
    "    ['NA', 'Cb'],\n",
    "    ['NA', 'Cd'],\n",
    "]\n",
    "tag2num = {'0':'0'}\n",
    "num2tag = {'0':'0'}\n",
    "i = 1\n",
    "for v1, v2 in graphs:\n",
    "    if v1 == '0': continue\n",
    "    if v1 not in tag2num.keys():\n",
    "        num2tag[str(i)] = v1\n",
    "        tag2num[v1] = str(i)\n",
    "        i -=- 1\n",
    "    if v2 not in tag2num.keys():\n",
    "        num2tag[str(i)] = v2\n",
    "        tag2num[v2] = str(i)\n",
    "        i -=- 1\n",
    "print(tag2num)\n",
    "print(num2tag)"
   ]
  },
  {
   "cell_type": "code",
   "execution_count": 82,
   "id": "106abc2d",
   "metadata": {},
   "outputs": [],
   "source": [
    "def graph2graphviz(graph):\n",
    "    print (\"digraph {\")\n",
    "    print ('\\tsubgraph clusterG1 { graph [label=\"Compound C\"]')\n",
    "    for i, edge in enumerate(graphs):\n",
    "        if edge == ['0', '0']: break\n",
    "        print (\"\\t\\t\",  \"\"+str(edge[0]), \"->\", \"\"+str(edge[1]))\n",
    "    print (\"\\t}\")\n",
    "\n",
    "    print ('\\tsubgraph clusterG2 { graph [label=\"Fragment F\"]')\n",
    "    for i, edge in enumerate(graphs[i+1:]):\n",
    "        print (\"\\t\\t\",  \"\"+str(edge[0]), \"->\", \"\"+str(edge[1]))\n",
    "    print (\"\\t}\")\n",
    "\n",
    "    print (\"}\")\n",
    "\n",
    "def graph2input(graphs):\n",
    "    finalgraphfile = ''\n",
    "    for e in graphs:\n",
    "        print(e[0], e[1], '<->', tag2num[e[0]], tag2num[e[1]])\n",
    "        finalgraphfile += tag2num[e[0]] + ' ' + tag2num[e[1]] + '\\n'\n",
    "    with open(f'{graphname}', 'w') as graphFile:\n",
    "        graphFile.write(finalgraphfile)\n",
    "    return finalgraphfile"
   ]
  },
  {
   "cell_type": "code",
   "execution_count": 83,
   "id": "ecc0def6",
   "metadata": {},
   "outputs": [
    {
     "name": "stdout",
     "output_type": "stream",
     "text": [
      "N1 C2 <-> 1 2\n",
      "N1 C6 <-> 1 3\n",
      "N1 C7 <-> 1 4\n",
      "C7 C8 <-> 4 5\n",
      "C8 C4 <-> 5 6\n",
      "C6 C5 <-> 3 7\n",
      "C5 C4 <-> 7 6\n",
      "C4 N3 <-> 6 8\n",
      "N3 C2 <-> 8 2\n",
      "N3 C12 <-> 8 9\n",
      "C2 C9 <-> 2 10\n",
      "C9 C10 <-> 10 11\n",
      "C9 O11 <-> 10 12\n",
      "0 0 <-> 0 0\n",
      "NA Cc <-> 13 14\n",
      "NA Cb <-> 13 15\n",
      "NA Cd <-> 13 16\n"
     ]
    }
   ],
   "source": [
    "graph = graph2input(graphs)"
   ]
  },
  {
   "cell_type": "code",
   "execution_count": 84,
   "id": "d52ea2a7",
   "metadata": {},
   "outputs": [
    {
     "name": "stdout",
     "output_type": "stream",
     "text": [
      "digraph {\n",
      "\tsubgraph clusterG1 { graph [label=\"Compound C\"]\n",
      "\t\t N1 -> C2\n",
      "\t\t N1 -> C6\n",
      "\t\t N1 -> C7\n",
      "\t\t C7 -> C8\n",
      "\t\t C8 -> C4\n",
      "\t\t C6 -> C5\n",
      "\t\t C5 -> C4\n",
      "\t\t C4 -> N3\n",
      "\t\t N3 -> C2\n",
      "\t\t N3 -> C12\n",
      "\t\t C2 -> C9\n",
      "\t\t C9 -> C10\n",
      "\t\t C9 -> O11\n",
      "\t}\n",
      "\tsubgraph clusterG2 { graph [label=\"Fragment F\"]\n",
      "\t\t NA -> Cc\n",
      "\t\t NA -> Cb\n",
      "\t\t NA -> Cd\n",
      "\t}\n",
      "}\n"
     ]
    }
   ],
   "source": [
    "graph2graphviz(graphs)"
   ]
  },
  {
   "cell_type": "code",
   "execution_count": 38,
   "id": "a59722ed",
   "metadata": {},
   "outputs": [
    {
     "data": {
      "image/png": "[encoded data removed]",
      "text/plain": [
       "<IPython.core.display.Image object>"
      ]
     },
     "execution_count": 38,
     "metadata": {
      "image/png": {
       "height": 700,
       "width": 700
      }
     },
     "output_type": "execute_result"
    }
   ],
   "source": [
    "Image(filename= \"pratica1.png\",  width=700, height=700)"
   ]
  },
  {
   "cell_type": "code",
   "execution_count": 72,
   "id": "8c145bb7",
   "metadata": {},
   "outputs": [],
   "source": [
    "def entradaSat(graph):\n",
    "    os.system(f'python3 src/gen_input.py {graph}')"
   ]
  },
  {
   "cell_type": "code",
   "execution_count": 87,
   "id": "c7d365f3",
   "metadata": {},
   "outputs": [
    {
     "name": "stdout",
     "output_type": "stream",
     "text": [
      "0.0015702247619628906\n"
     ]
    }
   ],
   "source": [
    "entradaSat(graphname)"
   ]
  },
  {
   "cell_type": "code",
   "execution_count": 88,
   "id": "75b8539a",
   "metadata": {},
   "outputs": [],
   "source": [
    "def satSolve(graphname):\n",
    "    satin = graphname + '.satinput'\n",
    "    satout = graphname + '.satoutput'\n",
    "    os.system(f'./minisat_static {satin} {satout}')"
   ]
  },
  {
   "cell_type": "code",
   "execution_count": 89,
   "id": "e21eab8d",
   "metadata": {},
   "outputs": [
    {
     "name": "stdout",
     "output_type": "stream",
     "text": [
      "==================================[MINISAT]===================================\n",
      "| Conflicts |     ORIGINAL     |              LEARNT              | Progress |\n",
      "|           | Clauses Literals |   Limit Clauses Literals  Lit/Cl |          |\n",
      "==============================================================================\n",
      "|         0 |      24      618 |       8       0        0    -nan |  0.000 % |\n",
      "==============================================================================\n",
      "restarts              : 1\n",
      "conflicts             : 0              (-nan /sec)\n",
      "decisions             : 3              (inf /sec)\n",
      "propagations          : 48             (inf /sec)\n",
      "conflict literals     : 0              (-nan % deleted)\n",
      "Memory used           : 2.24 MB\n",
      "CPU time              : 0 s\n",
      "\n",
      "SATISFIABLE\n"
     ]
    }
   ],
   "source": [
    "begin = time.time()\n",
    "satSolve(graphname)\n",
    "end = time.time()"
   ]
  },
  {
   "cell_type": "code",
   "execution_count": 94,
   "id": "69951673",
   "metadata": {},
   "outputs": [],
   "source": [
    "def saidaSat2Problem(graphname):\n",
    "    satout = graphname + '.satoutput'\n",
    "    mapping = graphname  + '.mapping'\n",
    "    a = os.popen(f'python src/gen_output.py {satout} {mapping}').read()\n",
    "    print(a)\n",
    "    return a"
   ]
  },
  {
   "cell_type": "code",
   "execution_count": 101,
   "id": "0d9185b1",
   "metadata": {},
   "outputs": [
    {
     "name": "stdout",
     "output_type": "stream",
     "text": [
      "G'-> g\n",
      "13 -> 1\n",
      "\n",
      "14 -> 2\n",
      "\n",
      "15 -> 3\n",
      "\n",
      "16 -> 4\n",
      "\n",
      "\n",
      "\n",
      "{'13': '1', '14': '2', '15': '3', '16': '4'}\n",
      "\n"
     ]
    }
   ],
   "source": [
    "mappingFunctionOld = ast.literal_eval(saidaSat2Problem(graphname).split('\\n')[-2])\n",
    "mappingFunction = {}\n",
    "for k,v in mappingFunctionOld.items():\n",
    "    mappingFunction[num2tag[k]] = num2tag[v]"
   ]
  },
  {
   "cell_type": "code",
   "execution_count": 102,
   "id": "93a8e3eb",
   "metadata": {},
   "outputs": [
    {
     "data": {
      "text/plain": [
       "{'NA': 'N1', 'Cc': 'C2', 'Cb': 'C6', 'Cd': 'C7'}"
      ]
     },
     "execution_count": 102,
     "metadata": {},
     "output_type": "execute_result"
    }
   ],
   "source": [
    "mappingFunction"
   ]
  },
  {
   "cell_type": "code",
   "execution_count": 105,
   "id": "9c7bba72",
   "metadata": {},
   "outputs": [],
   "source": [
    "def printMappingFunctionGraph(mappingFunction):\n",
    "  print ('\\tsubgraph mapG1G2 { graph [label=\"m\"]')\n",
    "  for g2, g1 in mappingFunction.items():\n",
    "    print (\"\\t\\t\",  \"\"+str(g2), \"->\", \"\"+str(g1), '[color = red]')\n",
    "  print (\"\\t}\")"
   ]
  },
  {
   "cell_type": "code",
   "execution_count": 106,
   "id": "38ee9041",
   "metadata": {},
   "outputs": [
    {
     "name": "stdout",
     "output_type": "stream",
     "text": [
      "\tsubgraph mapG1G2 { graph [label=\"m\"]\n",
      "\t\t NA -> N1 [color = red]\n",
      "\t\t Cc -> C2 [color = red]\n",
      "\t\t Cb -> C6 [color = red]\n",
      "\t\t Cd -> C7 [color = red]\n",
      "\t}\n"
     ]
    }
   ],
   "source": [
    "printMappingFunctionGraph(mappingFunction)"
   ]
  },
  {
   "cell_type": "code",
   "execution_count": 109,
   "id": "570957ab",
   "metadata": {},
   "outputs": [
    {
     "data": {
      "image/png": "[encoded data removed]",
      "text/plain": [
       "<IPython.core.display.Image object>"
      ]
     },
     "execution_count": 109,
     "metadata": {
      "image/png": {
       "height": 700,
       "width": 700
      }
     },
     "output_type": "execute_result"
    }
   ],
   "source": [
    "Image(filename= \"pratica1_mapping.png\",  width=700, height=700)"
   ]
  },
  {
   "cell_type": "code",
   "execution_count": 107,
   "id": "b5ab7df0",
   "metadata": {},
   "outputs": [],
   "source": [
    "def checkSolution(graphname):\n",
    "    mapping = graphname  + '.mapping'\n",
    "    os.system(f'python src/check.py {graphname} {mapping}')"
   ]
  },
  {
   "cell_type": "code",
   "execution_count": 108,
   "id": "907714fd",
   "metadata": {
    "scrolled": true
   },
   "outputs": [
    {
     "name": "stdout",
     "output_type": "stream",
     "text": [
      "True\n"
     ]
    }
   ],
   "source": [
    "checkSolution(graphname)"
   ]
  }
 ],
 "metadata": {
  "kernelspec": {
   "display_name": "Python 3 (ipykernel)",
   "language": "python",
   "name": "python3"
  },
  "language_info": {
   "codemirror_mode": {
    "name": "ipython",
    "version": 3
   },
   "file_extension": ".py",
   "mimetype": "text/x-python",
   "name": "python",
   "nbconvert_exporter": "python",
   "pygments_lexer": "ipython3",
   "version": "3.8.10"
  }
 },
 "nbformat": 4,
 "nbformat_minor": 5
}
